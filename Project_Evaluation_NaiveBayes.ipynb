{
 "cells": [
  {
   "cell_type": "code",
   "execution_count": 39,
   "metadata": {},
   "outputs": [],
   "source": [
    "# Required Python Machine learning Packages\n",
    "import pandas as pd\n",
    "import numpy as np\n",
    "# For preprocessing the data\n",
    "from sklearn.preprocessing import Imputer\n",
    "from sklearn import preprocessing\n",
    "# To split the dataset into train and test datasets\n",
    "from sklearn.model_selection import train_test_split\n",
    "# To model the Gaussian Naive Bayes classifier\n",
    "from sklearn.naive_bayes import GaussianNB\n",
    "# To calculate the accuracy score of the model\n",
    "from sklearn.metrics import accuracy_score\n"
   ]
  },
  {
   "cell_type": "code",
   "execution_count": 40,
   "metadata": {},
   "outputs": [
    {
     "name": "stdout",
     "output_type": "stream",
     "text": [
      "            Direction           ADF  ExCloseMomentum20  ExCloseMomentum40  \\\n",
      "Date                                                                        \n",
      "1991-01-02          1  4.770193e-13           0.000000           2.266590   \n",
      "1991-01-03          0  1.869675e-13           1.240293           4.081633   \n",
      "1991-01-07          0  1.107817e-13           2.518882           5.440829   \n",
      "1991-01-15          1  9.861885e-13          -1.723744          -0.249600   \n",
      "1991-01-17          1  7.075101e-12          -0.244706           0.493825   \n",
      "\n",
      "            ExCloseMomentum60  Expectation Position     Error        Qt  \\\n",
      "Date                                                                      \n",
      "1991-01-02           1.753978            1        L -0.204270  0.186566   \n",
      "1991-01-03           1.240293            0        S  0.295770  0.183176   \n",
      "1991-01-07           4.359385            1        L -0.219633  0.184186   \n",
      "1991-01-15           2.835464            1        L -0.187286  0.186352   \n",
      "1991-01-17           2.518882            0        S  0.361066  0.186854   \n",
      "\n",
      "                 -Qt  \n",
      "Date                  \n",
      "1991-01-02 -0.186566  \n",
      "1991-01-03 -0.183176  \n",
      "1991-01-07 -0.184186  \n",
      "1991-01-15 -0.186352  \n",
      "1991-01-17 -0.186854  \n"
     ]
    }
   ],
   "source": [
    "data = pd.read_csv('data_files/Evaluation_DF_v3.csv', encoding='utf-8')\n",
    "data.columns.values[0] = 'Date'\n",
    "data = data.set_index('Date')\n",
    "print(data.head())"
   ]
  },
  {
   "cell_type": "code",
   "execution_count": 41,
   "metadata": {},
   "outputs": [
    {
     "name": "stdout",
     "output_type": "stream",
     "text": [
      "            Direction           ADF  ExCloseMomentum20  ExCloseMomentum40  \\\n",
      "Date                                                                        \n",
      "1991-01-02          1  4.770193e-13           0.000000           2.266590   \n",
      "1991-01-03          0  1.869675e-13           1.240293           4.081633   \n",
      "1991-01-07          0  1.107817e-13           2.518882           5.440829   \n",
      "1991-01-15          1  9.861885e-13          -1.723744          -0.249600   \n",
      "1991-01-17          1  7.075101e-12          -0.244706           0.493825   \n",
      "\n",
      "            ExCloseMomentum60     Error        Qt  \n",
      "Date                                               \n",
      "1991-01-02           1.753978 -0.204270  0.186566  \n",
      "1991-01-03           1.240293  0.295770  0.183176  \n",
      "1991-01-07           4.359385 -0.219633  0.184186  \n",
      "1991-01-15           2.835464 -0.187286  0.186352  \n",
      "1991-01-17           2.518882  0.361066  0.186854  \n"
     ]
    }
   ],
   "source": [
    "data = data.drop(columns=['Position', 'Expectation','-Qt'])\n",
    "print (data.head())\n"
   ]
  },
  {
   "cell_type": "code",
   "execution_count": 42,
   "metadata": {},
   "outputs": [
    {
     "name": "stdout",
     "output_type": "stream",
     "text": [
      "[1.116533415785272e-12, 1.390048485935681, 1.7916341870975407, 2.2376058648561523]\n"
     ]
    }
   ],
   "source": [
    "#The Freedman-Diaconis rule is very robust and works well in practice. The bin-width is set to h=2×IQR×n−1/3. So the number of bins is (max−min)/h, where n is the number of observations, max is the maximum value and min is the minimum value.\n",
    "\n",
    "n = 1124\n",
    "cols_ = ['ADF', 'ExCloseMomentum20', 'ExCloseMomentum40', 'ExCloseMomentum60']\n",
    "bins = []\n",
    "for i in cols_:\n",
    "    max = data[i].max()\n",
    "    min = data[i].min()\n",
    "    iqr = data[i].quantile(0.75) - data[i].quantile(0.25)\n",
    "    number_of_bins = 2*(iqr/(n**(1/3)))\n",
    "    bins.append(number_of_bins)\n",
    "    \n",
    "    \n",
    "\n",
    "#data['ADF_binned'] = pd.cut(data['ADF'], 5, labels=[1,2,3,4,5])\n",
    "\n",
    "print (bins)\n"
   ]
  },
  {
   "cell_type": "code",
   "execution_count": 43,
   "metadata": {},
   "outputs": [
    {
     "name": "stdout",
     "output_type": "stream",
     "text": [
      "         Direction           ADF  ExCloseMomentum20  ExCloseMomentum40  \\\n",
      "count  1276.000000  1.276000e+03        1276.000000        1276.000000   \n",
      "mean      0.528997  1.729332e-01           0.546798           1.147698   \n",
      "std       0.499354  1.431496e+00           5.671711           7.313923   \n",
      "min       0.000000  6.755747e-26         -22.700000         -23.141934   \n",
      "25%       0.000000  4.127901e-19          -3.295137          -3.679306   \n",
      "50%       1.000000  9.144097e-16           0.757311           1.138731   \n",
      "75%       1.000000  5.804487e-12           3.931264           5.634806   \n",
      "max       1.000000  2.119792e+01          22.241546          28.639195   \n",
      "\n",
      "       ExCloseMomentum60        Error           Qt  \n",
      "count        1276.000000  1276.000000  1276.000000  \n",
      "mean            1.681794    -0.007843     0.503658  \n",
      "std             8.682522     0.932533     0.258030  \n",
      "min           -24.752595    -5.194013     0.158484  \n",
      "25%            -4.293936    -0.645785     0.340641  \n",
      "50%             1.258552    -0.178906     0.430276  \n",
      "75%             7.338635     0.642170     0.660844  \n",
      "max            25.747906     4.169179     1.333253  \n"
     ]
    }
   ],
   "source": [
    "print(data.describe())"
   ]
  },
  {
   "cell_type": "code",
   "execution_count": 44,
   "metadata": {},
   "outputs": [
    {
     "data": {
      "text/plain": [
       "3    562\n",
       "4    320\n",
       "2    266\n",
       "5     90\n",
       "1     38\n",
       "Name: ExCloseMomentum60_binned, dtype: int64"
      ]
     },
     "execution_count": 44,
     "metadata": {},
     "output_type": "execute_result"
    }
   ],
   "source": [
    "\n",
    "bins = 5\n",
    "label = [1,2,3,4,5]\n",
    "data['ADF_binned'] = pd.cut(data['ADF'], bins, labels=label)\n",
    "data['ExCloseMomentum20_binned'] = pd.cut(data['ExCloseMomentum20'], bins, labels=label)\n",
    "data['ExCloseMomentum40_binned'] = pd.cut(data['ExCloseMomentum40'], bins, labels=label)\n",
    "data['ExCloseMomentum60_binned'] = pd.cut(data['ExCloseMomentum60'], bins, labels=label)\n",
    "data['Error_binned'] = pd.cut(data['Error'], bins, labels=label)\n",
    "data['Qt_binned'] = pd.cut(data['Qt'], bins, labels=label)\n",
    "\n",
    "data['ExCloseMomentum60_binned'].value_counts()"
   ]
  },
  {
   "cell_type": "code",
   "execution_count": 45,
   "metadata": {},
   "outputs": [
    {
     "name": "stdout",
     "output_type": "stream",
     "text": [
      "            Direction ADF_binned ExCloseMomentum20_binned  \\\n",
      "Date                                                        \n",
      "1991-01-02          1          1                        3   \n",
      "1991-01-03          0          1                        3   \n",
      "1991-01-07          0          1                        3   \n",
      "1991-01-15          1          1                        3   \n",
      "1991-01-17          1          1                        3   \n",
      "\n",
      "           ExCloseMomentum40_binned ExCloseMomentum60_binned Error_binned  \\\n",
      "Date                                                                        \n",
      "1991-01-02                        3                        3            3   \n",
      "1991-01-03                        3                        3            3   \n",
      "1991-01-07                        3                        3            3   \n",
      "1991-01-15                        3                        3            3   \n",
      "1991-01-17                        3                        3            3   \n",
      "\n",
      "           Qt_binned  \n",
      "Date                  \n",
      "1991-01-02         1  \n",
      "1991-01-03         1  \n",
      "1991-01-07         1  \n",
      "1991-01-15         1  \n",
      "1991-01-17         1  \n"
     ]
    }
   ],
   "source": [
    "data = data.drop(columns=['ADF','ExCloseMomentum20','ExCloseMomentum40', \n",
    "                   'ExCloseMomentum60', 'Error', 'Qt'])\n",
    "\n",
    "\n",
    "print (data.head())"
   ]
  },
  {
   "cell_type": "code",
   "execution_count": 46,
   "metadata": {},
   "outputs": [],
   "source": [
    "import numpy as np\n",
    "labels = np.array(data['Direction'])\n",
    "\n",
    "data = data.drop('Direction', axis=1)\n",
    "\n",
    "features_list = list(data.columns)\n",
    "\n",
    "features = np.array(data)"
   ]
  },
  {
   "cell_type": "code",
   "execution_count": 47,
   "metadata": {},
   "outputs": [],
   "source": [
    "x_train, x_test, y_train, y_test = train_test_split(features, \n",
    "                        labels, test_size = 192, shuffle=False, stratify=None)"
   ]
  },
  {
   "cell_type": "code",
   "execution_count": 48,
   "metadata": {},
   "outputs": [
    {
     "name": "stdout",
     "output_type": "stream",
     "text": [
      "(1084, 6)\n",
      "(192, 6)\n",
      "(1084,)\n",
      "(192,)\n"
     ]
    }
   ],
   "source": [
    "print (x_train.shape)\n",
    "print (x_test.shape)\n",
    "print (y_train.shape)\n",
    "print (y_test.shape)"
   ]
  },
  {
   "cell_type": "code",
   "execution_count": 51,
   "metadata": {},
   "outputs": [
    {
     "name": "stdout",
     "output_type": "stream",
     "text": [
      "[1 0 0 1 0 1 1 0 1 0 0 0 1 1 1 1 1 0 1 1 1 0 1 1 1 1 1 1 1 1 1 1 1 1 1 0 0\n",
      " 1 0 0 0 1 0 0 0 0 0 0 0 0 0 0 0 0 0 0 1 0 1 0 0 1 0 0 0 0 0 0 0 0 0 0 0 0\n",
      " 1 1 1 0 0 0 0 0 1 0 0 0 0 0 0 0 0 0 0 0 0 0 0 0 0 0 0 0 0 0 0 0 0 0 0 0 0\n",
      " 1 0 0 0 1 0 0 0 0 0 0 1 1 0 1 1 1 1 1 1 1 1 1 1 1 1 1 0 0 0 0 1 1 0 0 0 1\n",
      " 1 1 0 0 0 1 0 1 0 0 0 0 1 0 0 0 0 0 0 0 0 0 0 0 1 1 1 0 0 1 0 0 0 0 0 0 0\n",
      " 0 0 0 0 0 0 0]\n"
     ]
    }
   ],
   "source": [
    "clf = GaussianNB()\n",
    "clf.fit(x_train, y_train)\n",
    "target_pred = clf.predict(x_test)\n",
    "print (target_pred)"
   ]
  },
  {
   "cell_type": "code",
   "execution_count": 52,
   "metadata": {},
   "outputs": [
    {
     "data": {
      "text/plain": [
       "0.4635416666666667"
      ]
     },
     "execution_count": 52,
     "metadata": {},
     "output_type": "execute_result"
    }
   ],
   "source": [
    "accuracy_score(y_test, target_pred, normalize = True)"
   ]
  },
  {
   "cell_type": "code",
   "execution_count": null,
   "metadata": {},
   "outputs": [],
   "source": []
  }
 ],
 "metadata": {
  "kernelspec": {
   "display_name": "Python 3",
   "language": "python",
   "name": "python3"
  },
  "language_info": {
   "codemirror_mode": {
    "name": "ipython",
    "version": 3
   },
   "file_extension": ".py",
   "mimetype": "text/x-python",
   "name": "python",
   "nbconvert_exporter": "python",
   "pygments_lexer": "ipython3",
   "version": "3.6.6"
  }
 },
 "nbformat": 4,
 "nbformat_minor": 1
}
