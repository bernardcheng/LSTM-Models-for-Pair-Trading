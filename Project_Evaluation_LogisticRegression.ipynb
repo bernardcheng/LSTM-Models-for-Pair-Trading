{
 "cells": [
  {
   "cell_type": "code",
   "execution_count": 24,
   "metadata": {},
   "outputs": [
    {
     "name": "stdout",
     "output_type": "stream",
     "text": [
      "            Direction           ADF  ExCloseMomentum20  ExCloseMomentum40  \\\n",
      "Date                                                                        \n",
      "1991-01-02          1  4.770193e-13           0.000000           2.266590   \n",
      "1991-01-03          0  1.869675e-13           1.240293           4.081633   \n",
      "1991-01-07          0  1.107817e-13           2.518882           5.440829   \n",
      "1991-01-15          1  9.861885e-13          -1.723744          -0.249600   \n",
      "1991-01-17          1  7.075101e-12          -0.244706           0.493825   \n",
      "\n",
      "            ExCloseMomentum60  Expectation Position     Error        Qt  \\\n",
      "Date                                                                      \n",
      "1991-01-02           1.753978            1        L -0.204270  0.186566   \n",
      "1991-01-03           1.240293            0        S  0.295770  0.183176   \n",
      "1991-01-07           4.359385            1        L -0.219633  0.184186   \n",
      "1991-01-15           2.835464            1        L -0.187286  0.186352   \n",
      "1991-01-17           2.518882            0        S  0.361066  0.186854   \n",
      "\n",
      "                 -Qt  \n",
      "Date                  \n",
      "1991-01-02 -0.186566  \n",
      "1991-01-03 -0.183176  \n",
      "1991-01-07 -0.184186  \n",
      "1991-01-15 -0.186352  \n",
      "1991-01-17 -0.186854  \n"
     ]
    }
   ],
   "source": [
    "import pandas as pd\n",
    "data = pd.read_csv('data_files/Evaluation_DF_v3.csv', encoding='utf-8')\n",
    "data.columns.values[0] = 'Date'\n",
    "data = data.set_index('Date')\n",
    "print (data.head(5))"
   ]
  },
  {
   "cell_type": "code",
   "execution_count": 25,
   "metadata": {},
   "outputs": [
    {
     "name": "stdout",
     "output_type": "stream",
     "text": [
      "            Direction           ADF  ExCloseMomentum20  ExCloseMomentum40  \\\n",
      "Date                                                                        \n",
      "1991-01-02          1  4.770193e-13           0.000000           2.266590   \n",
      "1991-01-03          0  1.869675e-13           1.240293           4.081633   \n",
      "1991-01-07          0  1.107817e-13           2.518882           5.440829   \n",
      "1991-01-15          1  9.861885e-13          -1.723744          -0.249600   \n",
      "1991-01-17          1  7.075101e-12          -0.244706           0.493825   \n",
      "\n",
      "            ExCloseMomentum60     Error        Qt  \n",
      "Date                                               \n",
      "1991-01-02           1.753978 -0.204270  0.186566  \n",
      "1991-01-03           1.240293  0.295770  0.183176  \n",
      "1991-01-07           4.359385 -0.219633  0.184186  \n",
      "1991-01-15           2.835464 -0.187286  0.186352  \n",
      "1991-01-17           2.518882  0.361066  0.186854  \n"
     ]
    }
   ],
   "source": [
    "data = data.drop(columns=['Position', 'Expectation','-Qt'])\n",
    "print (data.head())"
   ]
  },
  {
   "cell_type": "code",
   "execution_count": 26,
   "metadata": {},
   "outputs": [],
   "source": [
    "#target (dependent variable or y) is Direction\n",
    "#features (independent variables or x) are ADF, ExClosemomenums, expectation, error, Qt\n",
    "import numpy as np\n",
    "labels = np.array(data['Direction'])\n",
    "\n",
    "data = data.drop('Direction', axis=1)\n",
    "\n",
    "features_list = list(data.columns)\n",
    "\n",
    "features = np.array(data)"
   ]
  },
  {
   "cell_type": "code",
   "execution_count": 27,
   "metadata": {},
   "outputs": [],
   "source": [
    "from sklearn.model_selection import train_test_split\n",
    "x_train, x_test, y_train, y_test = train_test_split(features, \n",
    "                        labels, test_size = 192, shuffle=False, stratify=None)"
   ]
  },
  {
   "cell_type": "code",
   "execution_count": 28,
   "metadata": {},
   "outputs": [
    {
     "data": {
      "text/plain": [
       "array([[ 4.46937182e-19, -1.89200990e-01,  1.76584063e+00,\n",
       "        -1.37141419e+01, -1.26330966e+00,  6.82977398e-01],\n",
       "       [ 1.61203871e-18,  3.53558052e+00,  1.14151910e+00,\n",
       "        -4.22671840e+00,  1.18532866e+00,  6.60550709e-01],\n",
       "       [ 7.67090163e-19,  7.97978251e+00,  6.67271902e+00,\n",
       "        -1.02484908e+00,  1.25036333e+00,  6.61923912e-01],\n",
       "       ...,\n",
       "       [ 1.40015493e-20,  2.11027080e+00,  9.66854448e+00,\n",
       "         4.00049696e+00,  3.32476144e+00,  1.13666679e+00],\n",
       "       [ 3.62122105e-19,  1.94471624e+00,  7.99429904e+00,\n",
       "         3.97954092e+00, -1.16854129e+00,  1.15990631e+00],\n",
       "       [ 3.95024207e-18,  3.39087546e+00,  8.17602501e-01,\n",
       "         2.97187769e+00, -1.42243417e+00,  1.24931159e+00]])"
      ]
     },
     "execution_count": 28,
     "metadata": {},
     "output_type": "execute_result"
    }
   ],
   "source": [
    "x_test"
   ]
  },
  {
   "cell_type": "code",
   "execution_count": 29,
   "metadata": {},
   "outputs": [
    {
     "name": "stderr",
     "output_type": "stream",
     "text": [
      "C:\\Users\\victo\\AppData\\Roaming\\Python\\Python36\\site-packages\\sklearn\\linear_model\\logistic.py:432: FutureWarning: Default solver will be changed to 'lbfgs' in 0.22. Specify a solver to silence this warning.\n",
      "  FutureWarning)\n"
     ]
    },
    {
     "data": {
      "text/plain": [
       "LogisticRegression(C=5, class_weight=None, dual=False, fit_intercept=True,\n",
       "          intercept_scaling=1, max_iter=100, multi_class='warn',\n",
       "          n_jobs=None, penalty='l2', random_state=None, solver='warn',\n",
       "          tol=0.0001, verbose=0, warm_start=False)"
      ]
     },
     "execution_count": 29,
     "metadata": {},
     "output_type": "execute_result"
    }
   ],
   "source": [
    "from sklearn.linear_model import LogisticRegression\n",
    "logistic = LogisticRegression(C=5)\n",
    "logistic.fit(x_train, y_train)\n"
   ]
  },
  {
   "cell_type": "code",
   "execution_count": 39,
   "metadata": {},
   "outputs": [
    {
     "name": "stdout",
     "output_type": "stream",
     "text": [
      "<class 'numpy.ndarray'>\n",
      "(192,)\n"
     ]
    }
   ],
   "source": [
    "predictions = logistic.predict(x_test)\n",
    "#print (predictions)\n",
    "print (type(predictions))\n",
    "print (predictions.shape)"
   ]
  },
  {
   "cell_type": "code",
   "execution_count": 31,
   "metadata": {},
   "outputs": [
    {
     "name": "stdout",
     "output_type": "stream",
     "text": [
      "              precision    recall  f1-score   support\n",
      "\n",
      "           0       0.44      0.48      0.46        83\n",
      "           1       0.57      0.53      0.55       109\n",
      "\n",
      "   micro avg       0.51      0.51      0.51       192\n",
      "   macro avg       0.51      0.51      0.51       192\n",
      "weighted avg       0.52      0.51      0.51       192\n",
      "\n",
      "0.5104166666666666\n"
     ]
    }
   ],
   "source": [
    "from sklearn import metrics\n",
    "from sklearn.metrics import accuracy_score\n",
    "print(metrics.classification_report(y_test, predictions))\n",
    "print(accuracy_score(y_test, predictions))"
   ]
  },
  {
   "cell_type": "code",
   "execution_count": 35,
   "metadata": {},
   "outputs": [
    {
     "name": "stderr",
     "output_type": "stream",
     "text": [
      "C:\\Users\\victo\\AppData\\Roaming\\Python\\Python36\\site-packages\\sklearn\\linear_model\\logistic.py:432: FutureWarning: Default solver will be changed to 'lbfgs' in 0.22. Specify a solver to silence this warning.\n",
      "  FutureWarning)\n",
      "C:\\Users\\victo\\AppData\\Roaming\\Python\\Python36\\site-packages\\sklearn\\linear_model\\logistic.py:432: FutureWarning: Default solver will be changed to 'lbfgs' in 0.22. Specify a solver to silence this warning.\n",
      "  FutureWarning)\n",
      "C:\\Users\\victo\\AppData\\Roaming\\Python\\Python36\\site-packages\\sklearn\\linear_model\\logistic.py:432: FutureWarning: Default solver will be changed to 'lbfgs' in 0.22. Specify a solver to silence this warning.\n",
      "  FutureWarning)\n",
      "C:\\Users\\victo\\AppData\\Roaming\\Python\\Python36\\site-packages\\sklearn\\linear_model\\logistic.py:432: FutureWarning: Default solver will be changed to 'lbfgs' in 0.22. Specify a solver to silence this warning.\n",
      "  FutureWarning)\n",
      "C:\\Users\\victo\\AppData\\Roaming\\Python\\Python36\\site-packages\\sklearn\\linear_model\\logistic.py:432: FutureWarning: Default solver will be changed to 'lbfgs' in 0.22. Specify a solver to silence this warning.\n",
      "  FutureWarning)\n",
      "C:\\Users\\victo\\AppData\\Roaming\\Python\\Python36\\site-packages\\sklearn\\linear_model\\logistic.py:432: FutureWarning: Default solver will be changed to 'lbfgs' in 0.22. Specify a solver to silence this warning.\n",
      "  FutureWarning)\n",
      "C:\\Users\\victo\\AppData\\Roaming\\Python\\Python36\\site-packages\\sklearn\\linear_model\\logistic.py:432: FutureWarning: Default solver will be changed to 'lbfgs' in 0.22. Specify a solver to silence this warning.\n",
      "  FutureWarning)\n",
      "C:\\Users\\victo\\AppData\\Roaming\\Python\\Python36\\site-packages\\sklearn\\linear_model\\logistic.py:432: FutureWarning: Default solver will be changed to 'lbfgs' in 0.22. Specify a solver to silence this warning.\n",
      "  FutureWarning)\n",
      "C:\\Users\\victo\\AppData\\Roaming\\Python\\Python36\\site-packages\\sklearn\\linear_model\\logistic.py:432: FutureWarning: Default solver will be changed to 'lbfgs' in 0.22. Specify a solver to silence this warning.\n",
      "  FutureWarning)\n",
      "C:\\Users\\victo\\AppData\\Roaming\\Python\\Python36\\site-packages\\sklearn\\linear_model\\logistic.py:432: FutureWarning: Default solver will be changed to 'lbfgs' in 0.22. Specify a solver to silence this warning.\n",
      "  FutureWarning)\n",
      "C:\\Users\\victo\\AppData\\Roaming\\Python\\Python36\\site-packages\\sklearn\\linear_model\\logistic.py:432: FutureWarning: Default solver will be changed to 'lbfgs' in 0.22. Specify a solver to silence this warning.\n",
      "  FutureWarning)\n",
      "C:\\Users\\victo\\AppData\\Roaming\\Python\\Python36\\site-packages\\sklearn\\linear_model\\logistic.py:432: FutureWarning: Default solver will be changed to 'lbfgs' in 0.22. Specify a solver to silence this warning.\n",
      "  FutureWarning)\n",
      "C:\\Users\\victo\\AppData\\Roaming\\Python\\Python36\\site-packages\\sklearn\\linear_model\\logistic.py:432: FutureWarning: Default solver will be changed to 'lbfgs' in 0.22. Specify a solver to silence this warning.\n",
      "  FutureWarning)\n",
      "C:\\Users\\victo\\AppData\\Roaming\\Python\\Python36\\site-packages\\sklearn\\linear_model\\logistic.py:432: FutureWarning: Default solver will be changed to 'lbfgs' in 0.22. Specify a solver to silence this warning.\n",
      "  FutureWarning)\n",
      "C:\\Users\\victo\\AppData\\Roaming\\Python\\Python36\\site-packages\\sklearn\\linear_model\\logistic.py:432: FutureWarning: Default solver will be changed to 'lbfgs' in 0.22. Specify a solver to silence this warning.\n",
      "  FutureWarning)\n",
      "C:\\Users\\victo\\AppData\\Roaming\\Python\\Python36\\site-packages\\sklearn\\linear_model\\logistic.py:432: FutureWarning: Default solver will be changed to 'lbfgs' in 0.22. Specify a solver to silence this warning.\n",
      "  FutureWarning)\n",
      "C:\\Users\\victo\\AppData\\Roaming\\Python\\Python36\\site-packages\\sklearn\\linear_model\\logistic.py:432: FutureWarning: Default solver will be changed to 'lbfgs' in 0.22. Specify a solver to silence this warning.\n",
      "  FutureWarning)\n",
      "C:\\Users\\victo\\AppData\\Roaming\\Python\\Python36\\site-packages\\sklearn\\linear_model\\logistic.py:432: FutureWarning: Default solver will be changed to 'lbfgs' in 0.22. Specify a solver to silence this warning.\n",
      "  FutureWarning)\n",
      "C:\\Users\\victo\\AppData\\Roaming\\Python\\Python36\\site-packages\\sklearn\\linear_model\\logistic.py:432: FutureWarning: Default solver will be changed to 'lbfgs' in 0.22. Specify a solver to silence this warning.\n",
      "  FutureWarning)\n",
      "C:\\Users\\victo\\AppData\\Roaming\\Python\\Python36\\site-packages\\sklearn\\linear_model\\logistic.py:432: FutureWarning: Default solver will be changed to 'lbfgs' in 0.22. Specify a solver to silence this warning.\n",
      "  FutureWarning)\n",
      "C:\\Users\\victo\\AppData\\Roaming\\Python\\Python36\\site-packages\\sklearn\\linear_model\\logistic.py:432: FutureWarning: Default solver will be changed to 'lbfgs' in 0.22. Specify a solver to silence this warning.\n",
      "  FutureWarning)\n",
      "C:\\Users\\victo\\AppData\\Roaming\\Python\\Python36\\site-packages\\sklearn\\linear_model\\logistic.py:432: FutureWarning: Default solver will be changed to 'lbfgs' in 0.22. Specify a solver to silence this warning.\n",
      "  FutureWarning)\n",
      "C:\\Users\\victo\\AppData\\Roaming\\Python\\Python36\\site-packages\\sklearn\\linear_model\\logistic.py:432: FutureWarning: Default solver will be changed to 'lbfgs' in 0.22. Specify a solver to silence this warning.\n",
      "  FutureWarning)\n",
      "C:\\Users\\victo\\AppData\\Roaming\\Python\\Python36\\site-packages\\sklearn\\linear_model\\logistic.py:432: FutureWarning: Default solver will be changed to 'lbfgs' in 0.22. Specify a solver to silence this warning.\n",
      "  FutureWarning)\n",
      "C:\\Users\\victo\\AppData\\Roaming\\Python\\Python36\\site-packages\\sklearn\\linear_model\\logistic.py:432: FutureWarning: Default solver will be changed to 'lbfgs' in 0.22. Specify a solver to silence this warning.\n",
      "  FutureWarning)\n",
      "C:\\Users\\victo\\AppData\\Roaming\\Python\\Python36\\site-packages\\sklearn\\linear_model\\logistic.py:432: FutureWarning: Default solver will be changed to 'lbfgs' in 0.22. Specify a solver to silence this warning.\n",
      "  FutureWarning)\n",
      "C:\\Users\\victo\\AppData\\Roaming\\Python\\Python36\\site-packages\\sklearn\\linear_model\\logistic.py:432: FutureWarning: Default solver will be changed to 'lbfgs' in 0.22. Specify a solver to silence this warning.\n",
      "  FutureWarning)\n",
      "C:\\Users\\victo\\AppData\\Roaming\\Python\\Python36\\site-packages\\sklearn\\linear_model\\logistic.py:432: FutureWarning: Default solver will be changed to 'lbfgs' in 0.22. Specify a solver to silence this warning.\n",
      "  FutureWarning)\n",
      "C:\\Users\\victo\\AppData\\Roaming\\Python\\Python36\\site-packages\\sklearn\\linear_model\\logistic.py:432: FutureWarning: Default solver will be changed to 'lbfgs' in 0.22. Specify a solver to silence this warning.\n",
      "  FutureWarning)\n",
      "C:\\Users\\victo\\AppData\\Roaming\\Python\\Python36\\site-packages\\sklearn\\linear_model\\logistic.py:432: FutureWarning: Default solver will be changed to 'lbfgs' in 0.22. Specify a solver to silence this warning.\n",
      "  FutureWarning)\n",
      "C:\\Users\\victo\\AppData\\Roaming\\Python\\Python36\\site-packages\\sklearn\\linear_model\\logistic.py:432: FutureWarning: Default solver will be changed to 'lbfgs' in 0.22. Specify a solver to silence this warning.\n",
      "  FutureWarning)\n",
      "C:\\Users\\victo\\AppData\\Roaming\\Python\\Python36\\site-packages\\sklearn\\linear_model\\logistic.py:432: FutureWarning: Default solver will be changed to 'lbfgs' in 0.22. Specify a solver to silence this warning.\n",
      "  FutureWarning)\n",
      "C:\\Users\\victo\\AppData\\Roaming\\Python\\Python36\\site-packages\\sklearn\\linear_model\\logistic.py:432: FutureWarning: Default solver will be changed to 'lbfgs' in 0.22. Specify a solver to silence this warning.\n",
      "  FutureWarning)\n",
      "C:\\Users\\victo\\AppData\\Roaming\\Python\\Python36\\site-packages\\sklearn\\linear_model\\logistic.py:432: FutureWarning: Default solver will be changed to 'lbfgs' in 0.22. Specify a solver to silence this warning.\n",
      "  FutureWarning)\n",
      "C:\\Users\\victo\\AppData\\Roaming\\Python\\Python36\\site-packages\\sklearn\\linear_model\\logistic.py:432: FutureWarning: Default solver will be changed to 'lbfgs' in 0.22. Specify a solver to silence this warning.\n",
      "  FutureWarning)\n",
      "C:\\Users\\victo\\AppData\\Roaming\\Python\\Python36\\site-packages\\sklearn\\linear_model\\logistic.py:432: FutureWarning: Default solver will be changed to 'lbfgs' in 0.22. Specify a solver to silence this warning.\n",
      "  FutureWarning)\n",
      "C:\\Users\\victo\\AppData\\Roaming\\Python\\Python36\\site-packages\\sklearn\\linear_model\\logistic.py:432: FutureWarning: Default solver will be changed to 'lbfgs' in 0.22. Specify a solver to silence this warning.\n",
      "  FutureWarning)\n",
      "C:\\Users\\victo\\AppData\\Roaming\\Python\\Python36\\site-packages\\sklearn\\linear_model\\logistic.py:432: FutureWarning: Default solver will be changed to 'lbfgs' in 0.22. Specify a solver to silence this warning.\n",
      "  FutureWarning)\n",
      "C:\\Users\\victo\\AppData\\Roaming\\Python\\Python36\\site-packages\\sklearn\\linear_model\\logistic.py:432: FutureWarning: Default solver will be changed to 'lbfgs' in 0.22. Specify a solver to silence this warning.\n",
      "  FutureWarning)\n",
      "C:\\Users\\victo\\AppData\\Roaming\\Python\\Python36\\site-packages\\sklearn\\linear_model\\logistic.py:432: FutureWarning: Default solver will be changed to 'lbfgs' in 0.22. Specify a solver to silence this warning.\n",
      "  FutureWarning)\n",
      "C:\\Users\\victo\\AppData\\Roaming\\Python\\Python36\\site-packages\\sklearn\\linear_model\\logistic.py:432: FutureWarning: Default solver will be changed to 'lbfgs' in 0.22. Specify a solver to silence this warning.\n",
      "  FutureWarning)\n",
      "C:\\Users\\victo\\AppData\\Roaming\\Python\\Python36\\site-packages\\sklearn\\linear_model\\logistic.py:432: FutureWarning: Default solver will be changed to 'lbfgs' in 0.22. Specify a solver to silence this warning.\n",
      "  FutureWarning)\n",
      "C:\\Users\\victo\\AppData\\Roaming\\Python\\Python36\\site-packages\\sklearn\\linear_model\\logistic.py:432: FutureWarning: Default solver will be changed to 'lbfgs' in 0.22. Specify a solver to silence this warning.\n",
      "  FutureWarning)\n",
      "C:\\Users\\victo\\AppData\\Roaming\\Python\\Python36\\site-packages\\sklearn\\linear_model\\logistic.py:432: FutureWarning: Default solver will be changed to 'lbfgs' in 0.22. Specify a solver to silence this warning.\n",
      "  FutureWarning)\n",
      "C:\\Users\\victo\\AppData\\Roaming\\Python\\Python36\\site-packages\\sklearn\\linear_model\\logistic.py:432: FutureWarning: Default solver will be changed to 'lbfgs' in 0.22. Specify a solver to silence this warning.\n",
      "  FutureWarning)\n",
      "C:\\Users\\victo\\AppData\\Roaming\\Python\\Python36\\site-packages\\sklearn\\linear_model\\logistic.py:432: FutureWarning: Default solver will be changed to 'lbfgs' in 0.22. Specify a solver to silence this warning.\n",
      "  FutureWarning)\n",
      "C:\\Users\\victo\\AppData\\Roaming\\Python\\Python36\\site-packages\\sklearn\\linear_model\\logistic.py:432: FutureWarning: Default solver will be changed to 'lbfgs' in 0.22. Specify a solver to silence this warning.\n",
      "  FutureWarning)\n",
      "C:\\Users\\victo\\AppData\\Roaming\\Python\\Python36\\site-packages\\sklearn\\linear_model\\logistic.py:432: FutureWarning: Default solver will be changed to 'lbfgs' in 0.22. Specify a solver to silence this warning.\n",
      "  FutureWarning)\n",
      "C:\\Users\\victo\\AppData\\Roaming\\Python\\Python36\\site-packages\\sklearn\\linear_model\\logistic.py:432: FutureWarning: Default solver will be changed to 'lbfgs' in 0.22. Specify a solver to silence this warning.\n",
      "  FutureWarning)\n",
      "C:\\Users\\victo\\AppData\\Roaming\\Python\\Python36\\site-packages\\sklearn\\linear_model\\logistic.py:432: FutureWarning: Default solver will be changed to 'lbfgs' in 0.22. Specify a solver to silence this warning.\n",
      "  FutureWarning)\n",
      "C:\\Users\\victo\\AppData\\Roaming\\Python\\Python36\\site-packages\\sklearn\\linear_model\\logistic.py:432: FutureWarning: Default solver will be changed to 'lbfgs' in 0.22. Specify a solver to silence this warning.\n",
      "  FutureWarning)\n",
      "C:\\Users\\victo\\AppData\\Roaming\\Python\\Python36\\site-packages\\sklearn\\linear_model\\logistic.py:432: FutureWarning: Default solver will be changed to 'lbfgs' in 0.22. Specify a solver to silence this warning.\n",
      "  FutureWarning)\n",
      "C:\\Users\\victo\\AppData\\Roaming\\Python\\Python36\\site-packages\\sklearn\\linear_model\\logistic.py:432: FutureWarning: Default solver will be changed to 'lbfgs' in 0.22. Specify a solver to silence this warning.\n",
      "  FutureWarning)\n",
      "C:\\Users\\victo\\AppData\\Roaming\\Python\\Python36\\site-packages\\sklearn\\linear_model\\logistic.py:432: FutureWarning: Default solver will be changed to 'lbfgs' in 0.22. Specify a solver to silence this warning.\n",
      "  FutureWarning)\n",
      "C:\\Users\\victo\\AppData\\Roaming\\Python\\Python36\\site-packages\\sklearn\\linear_model\\logistic.py:432: FutureWarning: Default solver will be changed to 'lbfgs' in 0.22. Specify a solver to silence this warning.\n",
      "  FutureWarning)\n",
      "C:\\Users\\victo\\AppData\\Roaming\\Python\\Python36\\site-packages\\sklearn\\linear_model\\logistic.py:432: FutureWarning: Default solver will be changed to 'lbfgs' in 0.22. Specify a solver to silence this warning.\n",
      "  FutureWarning)\n",
      "C:\\Users\\victo\\AppData\\Roaming\\Python\\Python36\\site-packages\\sklearn\\linear_model\\logistic.py:432: FutureWarning: Default solver will be changed to 'lbfgs' in 0.22. Specify a solver to silence this warning.\n",
      "  FutureWarning)\n",
      "C:\\Users\\victo\\AppData\\Roaming\\Python\\Python36\\site-packages\\sklearn\\linear_model\\logistic.py:432: FutureWarning: Default solver will be changed to 'lbfgs' in 0.22. Specify a solver to silence this warning.\n",
      "  FutureWarning)\n",
      "C:\\Users\\victo\\AppData\\Roaming\\Python\\Python36\\site-packages\\sklearn\\linear_model\\logistic.py:432: FutureWarning: Default solver will be changed to 'lbfgs' in 0.22. Specify a solver to silence this warning.\n",
      "  FutureWarning)\n",
      "C:\\Users\\victo\\AppData\\Roaming\\Python\\Python36\\site-packages\\sklearn\\linear_model\\logistic.py:432: FutureWarning: Default solver will be changed to 'lbfgs' in 0.22. Specify a solver to silence this warning.\n",
      "  FutureWarning)\n",
      "C:\\Users\\victo\\AppData\\Roaming\\Python\\Python36\\site-packages\\sklearn\\linear_model\\logistic.py:432: FutureWarning: Default solver will be changed to 'lbfgs' in 0.22. Specify a solver to silence this warning.\n",
      "  FutureWarning)\n",
      "C:\\Users\\victo\\AppData\\Roaming\\Python\\Python36\\site-packages\\sklearn\\linear_model\\logistic.py:432: FutureWarning: Default solver will be changed to 'lbfgs' in 0.22. Specify a solver to silence this warning.\n",
      "  FutureWarning)\n",
      "C:\\Users\\victo\\AppData\\Roaming\\Python\\Python36\\site-packages\\sklearn\\linear_model\\logistic.py:432: FutureWarning: Default solver will be changed to 'lbfgs' in 0.22. Specify a solver to silence this warning.\n",
      "  FutureWarning)\n",
      "C:\\Users\\victo\\AppData\\Roaming\\Python\\Python36\\site-packages\\sklearn\\linear_model\\logistic.py:432: FutureWarning: Default solver will be changed to 'lbfgs' in 0.22. Specify a solver to silence this warning.\n",
      "  FutureWarning)\n",
      "C:\\Users\\victo\\AppData\\Roaming\\Python\\Python36\\site-packages\\sklearn\\linear_model\\logistic.py:432: FutureWarning: Default solver will be changed to 'lbfgs' in 0.22. Specify a solver to silence this warning.\n",
      "  FutureWarning)\n",
      "C:\\Users\\victo\\AppData\\Roaming\\Python\\Python36\\site-packages\\sklearn\\linear_model\\logistic.py:432: FutureWarning: Default solver will be changed to 'lbfgs' in 0.22. Specify a solver to silence this warning.\n",
      "  FutureWarning)\n",
      "C:\\Users\\victo\\AppData\\Roaming\\Python\\Python36\\site-packages\\sklearn\\linear_model\\logistic.py:432: FutureWarning: Default solver will be changed to 'lbfgs' in 0.22. Specify a solver to silence this warning.\n",
      "  FutureWarning)\n",
      "C:\\Users\\victo\\AppData\\Roaming\\Python\\Python36\\site-packages\\sklearn\\linear_model\\logistic.py:432: FutureWarning: Default solver will be changed to 'lbfgs' in 0.22. Specify a solver to silence this warning.\n",
      "  FutureWarning)\n",
      "C:\\Users\\victo\\AppData\\Roaming\\Python\\Python36\\site-packages\\sklearn\\linear_model\\logistic.py:432: FutureWarning: Default solver will be changed to 'lbfgs' in 0.22. Specify a solver to silence this warning.\n",
      "  FutureWarning)\n",
      "C:\\Users\\victo\\AppData\\Roaming\\Python\\Python36\\site-packages\\sklearn\\linear_model\\logistic.py:432: FutureWarning: Default solver will be changed to 'lbfgs' in 0.22. Specify a solver to silence this warning.\n",
      "  FutureWarning)\n",
      "C:\\Users\\victo\\AppData\\Roaming\\Python\\Python36\\site-packages\\sklearn\\linear_model\\logistic.py:432: FutureWarning: Default solver will be changed to 'lbfgs' in 0.22. Specify a solver to silence this warning.\n",
      "  FutureWarning)\n"
     ]
    },
    {
     "name": "stdout",
     "output_type": "stream",
     "text": [
      "Penalty l1, C 1.0 has accuracy of 0.5104166666666666\n",
      "Penalty l1, C 1.0481131341546857 has accuracy of 0.5104166666666666\n",
      "Penalty l1, C 1.0985411419875581 has accuracy of 0.5104166666666666\n",
      "Penalty l1, C 1.1513953993264474 has accuracy of 0.5104166666666666\n",
      "Penalty l1, C 1.2067926406393286 has accuracy of 0.5104166666666666\n",
      "Penalty l1, C 1.264855216855296 has accuracy of 0.5104166666666666\n",
      "Penalty l1, C 1.3257113655901092 has accuracy of 0.5104166666666666\n",
      "Penalty l1, C 1.3894954943731377 has accuracy of 0.5104166666666666\n",
      "Penalty l1, C 1.4563484775012439 has accuracy of 0.5104166666666666\n",
      "Penalty l1, C 1.5264179671752334 has accuracy of 0.5104166666666666\n",
      "Penalty l1, C 1.599858719606058 has accuracy of 0.5104166666666666\n",
      "Penalty l1, C 1.676832936811008 has accuracy of 0.5104166666666666\n",
      "Penalty l1, C 1.7575106248547918 has accuracy of 0.5104166666666666\n",
      "Penalty l1, C 1.842069969326716 has accuracy of 0.5104166666666666\n",
      "Penalty l1, C 1.93069772888325 has accuracy of 0.5104166666666666\n",
      "Penalty l1, C 2.023589647725157 has accuracy of 0.5104166666666666\n",
      "Penalty l1, C 2.120950887920191 has accuracy of 0.5104166666666666\n",
      "Penalty l1, C 2.2229964825261948 has accuracy of 0.5104166666666666\n",
      "Penalty l1, C 2.329951810515372 has accuracy of 0.5104166666666666\n",
      "Penalty l1, C 2.442053094548651 has accuracy of 0.5104166666666666\n",
      "Penalty l1, C 2.5595479226995357 has accuracy of 0.5104166666666666\n",
      "Penalty l1, C 2.6826957952797255 has accuracy of 0.5104166666666666\n",
      "Penalty l1, C 2.8117686979742302 has accuracy of 0.5104166666666666\n",
      "Penalty l1, C 2.9470517025518106 has accuracy of 0.5104166666666666\n",
      "Penalty l1, C 3.088843596477481 has accuracy of 0.5104166666666666\n",
      "Penalty l1, C 3.237457542817644 has accuracy of 0.5104166666666666\n",
      "Penalty l1, C 3.393221771895328 has accuracy of 0.5104166666666666\n",
      "Penalty l1, C 3.5564803062231287 has accuracy of 0.5104166666666666\n",
      "Penalty l1, C 3.72759372031494 has accuracy of 0.5104166666666666\n",
      "Penalty l1, C 3.906939937054617 has accuracy of 0.5104166666666666\n",
      "Penalty l1, C 4.094915062380425 has accuracy of 0.5104166666666666\n",
      "Penalty l1, C 4.2919342601287775 has accuracy of 0.5104166666666666\n",
      "Penalty l1, C 4.498432668969445 has accuracy of 0.5104166666666666\n",
      "Penalty l1, C 4.714866363457394 has accuracy of 0.5104166666666666\n",
      "Penalty l1, C 4.941713361323834 has accuracy of 0.5104166666666666\n",
      "Penalty l1, C 5.17947467923121 has accuracy of 0.5104166666666666\n",
      "Penalty l1, C 5.428675439323859 has accuracy of 0.5104166666666666\n",
      "Penalty l1, C 5.689866029018296 has accuracy of 0.5104166666666666\n",
      "Penalty l1, C 5.963623316594643 has accuracy of 0.5104166666666666\n",
      "Penalty l1, C 6.250551925273971 has accuracy of 0.5104166666666666\n",
      "Penalty l1, C 6.551285568595508 has accuracy of 0.5104166666666666\n",
      "Penalty l1, C 6.866488450043 has accuracy of 0.5104166666666666\n",
      "Penalty l1, C 7.196856730011519 has accuracy of 0.5104166666666666\n",
      "Penalty l1, C 7.543120063354617 has accuracy of 0.5104166666666666\n",
      "Penalty l1, C 7.906043210907698 has accuracy of 0.5104166666666666\n",
      "Penalty l1, C 8.286427728546842 has accuracy of 0.5104166666666666\n",
      "Penalty l1, C 8.685113737513525 has accuracy of 0.5104166666666666\n",
      "Penalty l1, C 9.102981779915218 has accuracy of 0.5104166666666666\n",
      "Penalty l1, C 9.54095476349994 has accuracy of 0.5104166666666666\n",
      "Penalty l1, C 10.0 has accuracy of 0.5104166666666666\n",
      "Penalty l2, C 1.0 has accuracy of 0.5104166666666666\n",
      "Penalty l2, C 1.0481131341546857 has accuracy of 0.5104166666666666\n",
      "Penalty l2, C 1.0985411419875581 has accuracy of 0.5104166666666666\n",
      "Penalty l2, C 1.1513953993264474 has accuracy of 0.5104166666666666\n",
      "Penalty l2, C 1.2067926406393286 has accuracy of 0.5104166666666666\n",
      "Penalty l2, C 1.264855216855296 has accuracy of 0.5104166666666666\n",
      "Penalty l2, C 1.3257113655901092 has accuracy of 0.5104166666666666\n",
      "Penalty l2, C 1.3894954943731377 has accuracy of 0.5104166666666666\n",
      "Penalty l2, C 1.4563484775012439 has accuracy of 0.5104166666666666\n",
      "Penalty l2, C 1.5264179671752334 has accuracy of 0.5104166666666666\n",
      "Penalty l2, C 1.599858719606058 has accuracy of 0.5104166666666666\n",
      "Penalty l2, C 1.676832936811008 has accuracy of 0.5104166666666666\n",
      "Penalty l2, C 1.7575106248547918 has accuracy of 0.5104166666666666\n",
      "Penalty l2, C 1.842069969326716 has accuracy of 0.5104166666666666\n",
      "Penalty l2, C 1.93069772888325 has accuracy of 0.5104166666666666\n",
      "Penalty l2, C 2.023589647725157 has accuracy of 0.5104166666666666\n",
      "Penalty l2, C 2.120950887920191 has accuracy of 0.5104166666666666\n",
      "Penalty l2, C 2.2229964825261948 has accuracy of 0.5104166666666666\n",
      "Penalty l2, C 2.329951810515372 has accuracy of 0.5104166666666666\n",
      "Penalty l2, C 2.442053094548651 has accuracy of 0.5104166666666666\n",
      "Penalty l2, C 2.5595479226995357 has accuracy of 0.5104166666666666\n",
      "Penalty l2, C 2.6826957952797255 has accuracy of 0.5104166666666666\n",
      "Penalty l2, C 2.8117686979742302 has accuracy of 0.5104166666666666\n",
      "Penalty l2, C 2.9470517025518106 has accuracy of 0.5104166666666666\n",
      "Penalty l2, C 3.088843596477481 has accuracy of 0.5104166666666666\n",
      "Penalty l2, C 3.237457542817644 has accuracy of 0.5104166666666666\n",
      "Penalty l2, C 3.393221771895328 has accuracy of 0.5104166666666666\n",
      "Penalty l2, C 3.5564803062231287 has accuracy of 0.5104166666666666\n",
      "Penalty l2, C 3.72759372031494 has accuracy of 0.5104166666666666\n",
      "Penalty l2, C 3.906939937054617 has accuracy of 0.5104166666666666\n",
      "Penalty l2, C 4.094915062380425 has accuracy of 0.5104166666666666\n",
      "Penalty l2, C 4.2919342601287775 has accuracy of 0.5104166666666666\n",
      "Penalty l2, C 4.498432668969445 has accuracy of 0.5104166666666666\n",
      "Penalty l2, C 4.714866363457394 has accuracy of 0.5104166666666666\n",
      "Penalty l2, C 4.941713361323834 has accuracy of 0.5104166666666666\n",
      "Penalty l2, C 5.17947467923121 has accuracy of 0.5104166666666666\n",
      "Penalty l2, C 5.428675439323859 has accuracy of 0.5104166666666666\n",
      "Penalty l2, C 5.689866029018296 has accuracy of 0.5104166666666666\n",
      "Penalty l2, C 5.963623316594643 has accuracy of 0.5104166666666666\n",
      "Penalty l2, C 6.250551925273971 has accuracy of 0.5104166666666666\n",
      "Penalty l2, C 6.551285568595508 has accuracy of 0.5104166666666666\n",
      "Penalty l2, C 6.866488450043 has accuracy of 0.5104166666666666\n",
      "Penalty l2, C 7.196856730011519 has accuracy of 0.5104166666666666\n",
      "Penalty l2, C 7.543120063354617 has accuracy of 0.5104166666666666\n",
      "Penalty l2, C 7.906043210907698 has accuracy of 0.5104166666666666\n",
      "Penalty l2, C 8.286427728546842 has accuracy of 0.5104166666666666\n",
      "Penalty l2, C 8.685113737513525 has accuracy of 0.5104166666666666\n",
      "Penalty l2, C 9.102981779915218 has accuracy of 0.5104166666666666\n",
      "Penalty l2, C 9.54095476349994 has accuracy of 0.5104166666666666\n",
      "Penalty l2, C 10.0 has accuracy of 0.5104166666666666\n"
     ]
    },
    {
     "name": "stderr",
     "output_type": "stream",
     "text": [
      "C:\\Users\\victo\\AppData\\Roaming\\Python\\Python36\\site-packages\\sklearn\\linear_model\\logistic.py:432: FutureWarning: Default solver will be changed to 'lbfgs' in 0.22. Specify a solver to silence this warning.\n",
      "  FutureWarning)\n",
      "C:\\Users\\victo\\AppData\\Roaming\\Python\\Python36\\site-packages\\sklearn\\linear_model\\logistic.py:432: FutureWarning: Default solver will be changed to 'lbfgs' in 0.22. Specify a solver to silence this warning.\n",
      "  FutureWarning)\n",
      "C:\\Users\\victo\\AppData\\Roaming\\Python\\Python36\\site-packages\\sklearn\\linear_model\\logistic.py:432: FutureWarning: Default solver will be changed to 'lbfgs' in 0.22. Specify a solver to silence this warning.\n",
      "  FutureWarning)\n",
      "C:\\Users\\victo\\AppData\\Roaming\\Python\\Python36\\site-packages\\sklearn\\linear_model\\logistic.py:432: FutureWarning: Default solver will be changed to 'lbfgs' in 0.22. Specify a solver to silence this warning.\n",
      "  FutureWarning)\n",
      "C:\\Users\\victo\\AppData\\Roaming\\Python\\Python36\\site-packages\\sklearn\\linear_model\\logistic.py:432: FutureWarning: Default solver will be changed to 'lbfgs' in 0.22. Specify a solver to silence this warning.\n",
      "  FutureWarning)\n",
      "C:\\Users\\victo\\AppData\\Roaming\\Python\\Python36\\site-packages\\sklearn\\linear_model\\logistic.py:432: FutureWarning: Default solver will be changed to 'lbfgs' in 0.22. Specify a solver to silence this warning.\n",
      "  FutureWarning)\n",
      "C:\\Users\\victo\\AppData\\Roaming\\Python\\Python36\\site-packages\\sklearn\\linear_model\\logistic.py:432: FutureWarning: Default solver will be changed to 'lbfgs' in 0.22. Specify a solver to silence this warning.\n",
      "  FutureWarning)\n",
      "C:\\Users\\victo\\AppData\\Roaming\\Python\\Python36\\site-packages\\sklearn\\linear_model\\logistic.py:432: FutureWarning: Default solver will be changed to 'lbfgs' in 0.22. Specify a solver to silence this warning.\n",
      "  FutureWarning)\n",
      "C:\\Users\\victo\\AppData\\Roaming\\Python\\Python36\\site-packages\\sklearn\\linear_model\\logistic.py:432: FutureWarning: Default solver will be changed to 'lbfgs' in 0.22. Specify a solver to silence this warning.\n",
      "  FutureWarning)\n",
      "C:\\Users\\victo\\AppData\\Roaming\\Python\\Python36\\site-packages\\sklearn\\linear_model\\logistic.py:432: FutureWarning: Default solver will be changed to 'lbfgs' in 0.22. Specify a solver to silence this warning.\n",
      "  FutureWarning)\n",
      "C:\\Users\\victo\\AppData\\Roaming\\Python\\Python36\\site-packages\\sklearn\\linear_model\\logistic.py:432: FutureWarning: Default solver will be changed to 'lbfgs' in 0.22. Specify a solver to silence this warning.\n",
      "  FutureWarning)\n",
      "C:\\Users\\victo\\AppData\\Roaming\\Python\\Python36\\site-packages\\sklearn\\linear_model\\logistic.py:432: FutureWarning: Default solver will be changed to 'lbfgs' in 0.22. Specify a solver to silence this warning.\n",
      "  FutureWarning)\n",
      "C:\\Users\\victo\\AppData\\Roaming\\Python\\Python36\\site-packages\\sklearn\\linear_model\\logistic.py:432: FutureWarning: Default solver will be changed to 'lbfgs' in 0.22. Specify a solver to silence this warning.\n",
      "  FutureWarning)\n",
      "C:\\Users\\victo\\AppData\\Roaming\\Python\\Python36\\site-packages\\sklearn\\linear_model\\logistic.py:432: FutureWarning: Default solver will be changed to 'lbfgs' in 0.22. Specify a solver to silence this warning.\n",
      "  FutureWarning)\n",
      "C:\\Users\\victo\\AppData\\Roaming\\Python\\Python36\\site-packages\\sklearn\\linear_model\\logistic.py:432: FutureWarning: Default solver will be changed to 'lbfgs' in 0.22. Specify a solver to silence this warning.\n",
      "  FutureWarning)\n",
      "C:\\Users\\victo\\AppData\\Roaming\\Python\\Python36\\site-packages\\sklearn\\linear_model\\logistic.py:432: FutureWarning: Default solver will be changed to 'lbfgs' in 0.22. Specify a solver to silence this warning.\n",
      "  FutureWarning)\n",
      "C:\\Users\\victo\\AppData\\Roaming\\Python\\Python36\\site-packages\\sklearn\\linear_model\\logistic.py:432: FutureWarning: Default solver will be changed to 'lbfgs' in 0.22. Specify a solver to silence this warning.\n",
      "  FutureWarning)\n",
      "C:\\Users\\victo\\AppData\\Roaming\\Python\\Python36\\site-packages\\sklearn\\linear_model\\logistic.py:432: FutureWarning: Default solver will be changed to 'lbfgs' in 0.22. Specify a solver to silence this warning.\n",
      "  FutureWarning)\n",
      "C:\\Users\\victo\\AppData\\Roaming\\Python\\Python36\\site-packages\\sklearn\\linear_model\\logistic.py:432: FutureWarning: Default solver will be changed to 'lbfgs' in 0.22. Specify a solver to silence this warning.\n",
      "  FutureWarning)\n",
      "C:\\Users\\victo\\AppData\\Roaming\\Python\\Python36\\site-packages\\sklearn\\linear_model\\logistic.py:432: FutureWarning: Default solver will be changed to 'lbfgs' in 0.22. Specify a solver to silence this warning.\n",
      "  FutureWarning)\n",
      "C:\\Users\\victo\\AppData\\Roaming\\Python\\Python36\\site-packages\\sklearn\\linear_model\\logistic.py:432: FutureWarning: Default solver will be changed to 'lbfgs' in 0.22. Specify a solver to silence this warning.\n",
      "  FutureWarning)\n",
      "C:\\Users\\victo\\AppData\\Roaming\\Python\\Python36\\site-packages\\sklearn\\linear_model\\logistic.py:432: FutureWarning: Default solver will be changed to 'lbfgs' in 0.22. Specify a solver to silence this warning.\n",
      "  FutureWarning)\n",
      "C:\\Users\\victo\\AppData\\Roaming\\Python\\Python36\\site-packages\\sklearn\\linear_model\\logistic.py:432: FutureWarning: Default solver will be changed to 'lbfgs' in 0.22. Specify a solver to silence this warning.\n",
      "  FutureWarning)\n",
      "C:\\Users\\victo\\AppData\\Roaming\\Python\\Python36\\site-packages\\sklearn\\linear_model\\logistic.py:432: FutureWarning: Default solver will be changed to 'lbfgs' in 0.22. Specify a solver to silence this warning.\n",
      "  FutureWarning)\n",
      "C:\\Users\\victo\\AppData\\Roaming\\Python\\Python36\\site-packages\\sklearn\\linear_model\\logistic.py:432: FutureWarning: Default solver will be changed to 'lbfgs' in 0.22. Specify a solver to silence this warning.\n",
      "  FutureWarning)\n",
      "C:\\Users\\victo\\AppData\\Roaming\\Python\\Python36\\site-packages\\sklearn\\linear_model\\logistic.py:432: FutureWarning: Default solver will be changed to 'lbfgs' in 0.22. Specify a solver to silence this warning.\n",
      "  FutureWarning)\n",
      "C:\\Users\\victo\\AppData\\Roaming\\Python\\Python36\\site-packages\\sklearn\\linear_model\\logistic.py:432: FutureWarning: Default solver will be changed to 'lbfgs' in 0.22. Specify a solver to silence this warning.\n",
      "  FutureWarning)\n",
      "C:\\Users\\victo\\AppData\\Roaming\\Python\\Python36\\site-packages\\sklearn\\linear_model\\logistic.py:432: FutureWarning: Default solver will be changed to 'lbfgs' in 0.22. Specify a solver to silence this warning.\n",
      "  FutureWarning)\n",
      "C:\\Users\\victo\\AppData\\Roaming\\Python\\Python36\\site-packages\\sklearn\\linear_model\\logistic.py:432: FutureWarning: Default solver will be changed to 'lbfgs' in 0.22. Specify a solver to silence this warning.\n",
      "  FutureWarning)\n"
     ]
    }
   ],
   "source": [
    "C = list(np.logspace(0,1,50))\n",
    "penalties = ['l1', 'l2']\n",
    "acc_score = []\n",
    "#print (trees)\n",
    "for penalty in penalties:\n",
    "    for i in C:\n",
    "\n",
    "        LR = LogisticRegression(penalty=penalty, C=i)\n",
    "        LR.fit(x_train, y_train)\n",
    "        predictions = LR.predict(x_test)\n",
    "        acc_score.append(accuracy_score(y_test,predictions))\n",
    "        print(f'Penalty {penalty}, C {i} has accuracy of {accuracy_score(y_test, predictions)}')"
   ]
  },
  {
   "cell_type": "code",
   "execution_count": 34,
   "metadata": {},
   "outputs": [
    {
     "data": {
      "text/plain": [
       "0.5104166666666666"
      ]
     },
     "execution_count": 34,
     "metadata": {},
     "output_type": "execute_result"
    }
   ],
   "source": [
    "max(acc_score)"
   ]
  },
  {
   "cell_type": "code",
   "execution_count": 40,
   "metadata": {},
   "outputs": [
    {
     "name": "stdout",
     "output_type": "stream",
     "text": [
      "[1 0 0 1 0 1 1 0 1 0 0 0 1 1 1 1 1 0 1 1 1 0 1 1 1 1 1 1 0 0 1 0 1 1 1 0 0\n",
      " 1 0 0 0 1 1 0 0 0 1 0 1 1 1 1 0 1 1 1 1 0 1 0 1 1 0 0 1 0 0 1 0 1 1 1 0 1\n",
      " 1 1 1 0 0 0 1 0 1 1 0 0 1 1 0 0 0 0 0 1 0 1 1 0 1 0 0 0 1 0 0 0 1 0 1 0 0\n",
      " 1 0 1 0 1 0 0 1 0 0 0 0 1 0 1 0 0 1 1 1 0 0 1 0 1 1 1 1 1 1 0 1 1 0 0 0 0\n",
      " 1 0 0 0 0 1 0 1 1 0 1 0 1 1 1 0 0 1 0 0 1 0 1 0 1 1 1 0 1 1 1 0 1 0 1 0 0\n",
      " 1 1 0 1 0 1 1]\n"
     ]
    }
   ],
   "source": [
    "print(predictions)"
   ]
  },
  {
   "cell_type": "code",
   "execution_count": null,
   "metadata": {},
   "outputs": [],
   "source": []
  }
 ],
 "metadata": {
  "kernelspec": {
   "display_name": "Python 3",
   "language": "python",
   "name": "python3"
  },
  "language_info": {
   "codemirror_mode": {
    "name": "ipython",
    "version": 3
   },
   "file_extension": ".py",
   "mimetype": "text/x-python",
   "name": "python",
   "nbconvert_exporter": "python",
   "pygments_lexer": "ipython3",
   "version": "3.6.6"
  }
 },
 "nbformat": 4,
 "nbformat_minor": 2
}
